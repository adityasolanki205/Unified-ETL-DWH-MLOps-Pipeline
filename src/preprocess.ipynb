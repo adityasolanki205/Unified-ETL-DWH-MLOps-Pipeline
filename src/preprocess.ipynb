{
 "cells": [
  {
   "cell_type": "code",
   "execution_count": null,
   "id": "02cedf3f-636c-466c-a98f-8c44b254bb47",
   "metadata": {},
   "outputs": [],
   "source": [
    "import numpy as np\n",
    "import pandas as pd\n",
    "import matplotlib.pyplot as plt\n",
    "import seaborn as sns\n",
    "import warnings\n",
    "from sklearn.preprocessing import StandardScaler\n",
    "from sklearn.preprocessing import MinMaxScaler, StandardScaler\n",
    "from sklearn.preprocessing import LabelEncoder\n",
    "\n",
    "def encode_columns(df, columns):\n",
    "    encoders = {}\n",
    "    for column in columns:\n",
    "        le = LabelEncoder()\n",
    "        df[column] = le.fit_transform(df[column])\n",
    "        encoders[column] = dict(zip(le.transform(le.classes_), le.classes_))\n",
    "    return df\n",
    "def preprocess(df):\n",
    "    numeric_columns = df.describe().columns\n",
    "    df_log_transformed = df.copy()\n",
    "    df_log_transformed[numeric_columns] = df[numeric_columns].apply(lambda x: np.log(x + 1))\n",
    "    scaler = MinMaxScaler()\n",
    "    df_scaled_log_transformed = df_log_transformed.copy()\n",
    "    df_scaled_log_transformed[numeric_columns] = scaler.fit_transform(df_scaled_log_transformed[numeric_columns])\n",
    "    categorical_columns = [\n",
    "    'Existing account', 'Credit history', 'Purpose', 'Saving',\n",
    "    'Employment duration', 'Personal status', 'Debtors', 'Property',\n",
    "    'Installment plans', 'Housing', 'Job', 'Telephone', 'Foreign worker'\n",
    "    ]\n",
    "    df_scaled_log_transformed = encode_columns(df_scaled_log_transformed, categorical_columns)\n",
    "    return df_scaled_log_transformed"
   ]
  }
 ],
 "metadata": {
  "kernelspec": {
   "display_name": "Python [conda env:base] *",
   "language": "python",
   "name": "conda-base-py"
  },
  "language_info": {
   "codemirror_mode": {
    "name": "ipython",
    "version": 3
   },
   "file_extension": ".py",
   "mimetype": "text/x-python",
   "name": "python",
   "nbconvert_exporter": "python",
   "pygments_lexer": "ipython3",
   "version": "3.9.21"
  }
 },
 "nbformat": 4,
 "nbformat_minor": 5
}
