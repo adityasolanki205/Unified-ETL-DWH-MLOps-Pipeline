{
 "cells": [
  {
   "cell_type": "code",
   "execution_count": null,
   "id": "d1958039-ad5c-4f2d-b514-a269113b30ae",
   "metadata": {},
   "outputs": [],
   "source": [
    "from sklearn.model_selection import train_test_split\n",
    "from sklearn.preprocessing import StandardScaler\n",
    "import pandas as pd\n",
    "from sklearn.utils import shuffle"
   ]
  },
  {
   "cell_type": "code",
   "execution_count": null,
   "id": "54b2b636-6f3d-484e-825a-799275d921bc",
   "metadata": {},
   "outputs": [],
   "source": [
    "def get_train_test_splits(df, target_column, test_size_sample ):\n",
    "    df = shuffle(df)\n",
    "    x = df.drop(target_column, axis=1)\n",
    "    y = df[target_column]\n",
    "\n",
    "    X_train, X_test, y_train, y_test = train_test_split(x, y, test_size = test_size_sample)\n",
    "    \n",
    "    X_train = pd.DataFrame(X_train)\n",
    "    y_train = pd.DataFrame(y_train)\n",
    "    X_test = pd.DataFrame(X_test)\n",
    "    y_test = pd.DataFrame(y_test)\n",
    "    X_train.reset_index(drop=True, inplace=True)\n",
    "    y_train.reset_index(drop=True, inplace=True)\n",
    "    X_test = X_test.reset_index(drop=True)\n",
    "    y_test = y_test.reset_index(drop=True)\n",
    "    X_train = pd.concat([X_train, y_train], axis=1)\n",
    "    X_test = pd.concat([X_test, y_test], axis=1)\n",
    "    X_train.columns = x.columns.to_list() + [target_column]\n",
    "    X_test.columns = x.columns.to_list() + [target_column]\n",
    "    return X_train, X_test"
   ]
  }
 ],
 "metadata": {
  "kernelspec": {
   "display_name": "Python [conda env:base] *",
   "language": "python",
   "name": "conda-base-py"
  },
  "language_info": {
   "codemirror_mode": {
    "name": "ipython",
    "version": 3
   },
   "file_extension": ".py",
   "mimetype": "text/x-python",
   "name": "python",
   "nbconvert_exporter": "python",
   "pygments_lexer": "ipython3",
   "version": "3.9.21"
  }
 },
 "nbformat": 4,
 "nbformat_minor": 5
}
