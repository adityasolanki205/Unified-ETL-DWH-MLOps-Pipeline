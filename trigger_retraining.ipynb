{
 "cells": [
  {
   "cell_type": "code",
   "execution_count": null,
   "id": "69414c33-18d5-453b-af9d-17635fdab1d0",
   "metadata": {},
   "outputs": [],
   "source": [
    "import base64\n",
    "import json\n",
    "from google.cloud import aiplatform\n",
    "from google.cloud.aiplatform import PipelineJob\n",
    "\n",
    "PROJECT_ID = \"solar-dialect-264808\"                     # <---CHANGE THIS\n",
    "REGION = \"asia-south1\"                            # <---CHANGE THIS\n",
    "PIPELINE_ROOT =\"gs://demo_bucket_kfl/pipeline_root_demo\" # <---CHANGE THIS\n",
    "\n",
    "def subscribe(event, context):\n",
    "    \"\"\"Triggered from a message on a Cloud Pub/Sub topic.\n",
    "    Args:\n",
    "            event (dict): Event payload.\n",
    "            context (google.cloud.functions.Context): Metadata for the event.\n",
    "    \"\"\"\n",
    "    # decode the event payload string\n",
    "    payload_message = base64.b64decode(event['data']).decode('utf-8')\n",
    "    # parse payload string into JSON object\n",
    "    payload_json = json.loads(payload_message)\n",
    "    # trigger pipeline run with payload\n",
    "    trigger_retraining(payload_json)\n",
    "\n",
    "def trigger_retraining(payload_json):\n",
    "    \"\"\"Triggers a pipeline run\n",
    "    Args:\n",
    "            payload_json: expected in the following format:\n",
    "            {\n",
    "                \"pipeline_spec_uri\": \"<path-to-your-compiled-pipeline>\",\n",
    "                \"parameter_values\": {\n",
    "                \"greet_name\": \"<any-greet-string>\"\n",
    "                }\n",
    "            }\n",
    "    \"\"\"\n",
    "    pipeline_spec_uri = \"gs://demo_bucket_kfl/training_pipeline.json\"\n",
    "    \n",
    "    # Create a PipelineJob using the compiled pipeline from pipeline_spec_uri\n",
    "    aiplatform.init(\n",
    "        project=PROJECT_ID,\n",
    "        location=REGION,\n",
    "    )\n",
    "    \n",
    "    pipeline_job = PipelineJob(\n",
    "        display_name=\"retraining_pipeline_job\",\n",
    "        template_path=pipeline_spec_uri,\n",
    "        pipeline_root=PIPELINE_ROOT\n",
    "        )\n",
    "    pipeline_job.run()\n"
   ]
  }
 ],
 "metadata": {
  "kernelspec": {
   "display_name": "Python [conda env:base] *",
   "language": "python",
   "name": "conda-base-py"
  },
  "language_info": {
   "codemirror_mode": {
    "name": "ipython",
    "version": 3
   },
   "file_extension": ".py",
   "mimetype": "text/x-python",
   "name": "python",
   "nbconvert_exporter": "python",
   "pygments_lexer": "ipython3",
   "version": "3.9.21"
  }
 },
 "nbformat": 4,
 "nbformat_minor": 5
}
