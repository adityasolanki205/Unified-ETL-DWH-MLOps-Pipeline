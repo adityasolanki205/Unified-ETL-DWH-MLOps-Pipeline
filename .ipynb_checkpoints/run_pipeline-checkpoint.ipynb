{
 "cells": [
  {
   "cell_type": "code",
   "execution_count": 1,
   "id": "61f2fb4b-6ae1-40bd-b91a-55b113cdef1d",
   "metadata": {
    "tags": []
   },
   "outputs": [],
   "source": [
    "from google.cloud.aiplatform import PipelineJob"
   ]
  },
  {
   "cell_type": "code",
   "execution_count": 2,
   "id": "d9754782-a910-4a69-98e6-3e001678e621",
   "metadata": {
    "tags": []
   },
   "outputs": [
    {
     "name": "stdout",
     "output_type": "stream",
     "text": [
      "Creating PipelineJob\n",
      "PipelineJob created. Resource name: projects/827249641444/locations/asia-south1/pipelineJobs/training-pipeline-20250629143618\n",
      "To use this PipelineJob in another session:\n",
      "pipeline_job = aiplatform.PipelineJob.get('projects/827249641444/locations/asia-south1/pipelineJobs/training-pipeline-20250629143618')\n",
      "View Pipeline Job:\n",
      "https://console.cloud.google.com/vertex-ai/locations/asia-south1/pipelines/runs/training-pipeline-20250629143618?project=827249641444\n",
      "PipelineJob projects/827249641444/locations/asia-south1/pipelineJobs/training-pipeline-20250629143618 current state:\n",
      "PipelineState.PIPELINE_STATE_RUNNING\n",
      "PipelineJob projects/827249641444/locations/asia-south1/pipelineJobs/training-pipeline-20250629143618 current state:\n",
      "PipelineState.PIPELINE_STATE_RUNNING\n",
      "PipelineJob projects/827249641444/locations/asia-south1/pipelineJobs/training-pipeline-20250629143618 current state:\n",
      "PipelineState.PIPELINE_STATE_RUNNING\n",
      "PipelineJob projects/827249641444/locations/asia-south1/pipelineJobs/training-pipeline-20250629143618 current state:\n",
      "PipelineState.PIPELINE_STATE_RUNNING\n",
      "PipelineJob projects/827249641444/locations/asia-south1/pipelineJobs/training-pipeline-20250629143618 current state:\n",
      "PipelineState.PIPELINE_STATE_RUNNING\n",
      "PipelineJob projects/827249641444/locations/asia-south1/pipelineJobs/training-pipeline-20250629143618 current state:\n",
      "PipelineState.PIPELINE_STATE_RUNNING\n",
      "PipelineJob projects/827249641444/locations/asia-south1/pipelineJobs/training-pipeline-20250629143618 current state:\n",
      "PipelineState.PIPELINE_STATE_RUNNING\n",
      "PipelineJob projects/827249641444/locations/asia-south1/pipelineJobs/training-pipeline-20250629143618 current state:\n",
      "PipelineState.PIPELINE_STATE_RUNNING\n",
      "PipelineJob projects/827249641444/locations/asia-south1/pipelineJobs/training-pipeline-20250629143618 current state:\n",
      "PipelineState.PIPELINE_STATE_RUNNING\n",
      "PipelineJob projects/827249641444/locations/asia-south1/pipelineJobs/training-pipeline-20250629143618 current state:\n",
      "PipelineState.PIPELINE_STATE_RUNNING\n",
      "PipelineJob projects/827249641444/locations/asia-south1/pipelineJobs/training-pipeline-20250629143618 current state:\n",
      "PipelineState.PIPELINE_STATE_RUNNING\n",
      "PipelineJob run completed. Resource name: projects/827249641444/locations/asia-south1/pipelineJobs/training-pipeline-20250629143618\n"
     ]
    }
   ],
   "source": [
    "pipeline_job = PipelineJob(\n",
    "    display_name=\"training_pipeline_job\",\n",
    "    template_path=\"training_pipeline.json\",\n",
    "    pipeline_root=\"gs://demo_bucket_kfl/pipeline_root_demo\",\n",
    "    project=\"solar-dialect-264808\",\n",
    "    location=\"asia-south1\",\n",
    ")\n",
    "pipeline_job.run()"
   ]
  },
  {
   "cell_type": "code",
   "execution_count": null,
   "id": "a4b63e93-7705-4986-a4cf-9181fb2b9300",
   "metadata": {},
   "outputs": [],
   "source": []
  }
 ],
 "metadata": {
  "environment": {
   "kernel": "conda-base-py",
   "name": "workbench-notebooks.m130",
   "type": "gcloud",
   "uri": "us-docker.pkg.dev/deeplearning-platform-release/gcr.io/workbench-notebooks:m130"
  },
  "kernelspec": {
   "display_name": "Python [conda env:base] *",
   "language": "python",
   "name": "conda-base-py"
  },
  "language_info": {
   "codemirror_mode": {
    "name": "ipython",
    "version": 3
   },
   "file_extension": ".py",
   "mimetype": "text/x-python",
   "name": "python",
   "nbconvert_exporter": "python",
   "pygments_lexer": "ipython3",
   "version": "3.9.21"
  }
 },
 "nbformat": 4,
 "nbformat_minor": 5
}
