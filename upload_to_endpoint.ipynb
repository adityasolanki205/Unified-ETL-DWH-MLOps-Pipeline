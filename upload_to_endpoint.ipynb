{
 "cells": [
  {
   "cell_type": "code",
   "execution_count": null,
   "id": "4569023e-980c-466c-944b-4e7ff189aea4",
   "metadata": {
    "tags": []
   },
   "outputs": [
    {
     "name": "stdout",
     "output_type": "stream",
     "text": [
      "Creating Model\n",
      "Create Model backing LRO: projects/827249641444/locations/asia-south1/models/4518438636298960896/operations/6789367203528441856\n",
      "Model created. Resource name: projects/827249641444/locations/asia-south1/models/4518438636298960896@1\n",
      "To use this Model in another session:\n",
      "model = aiplatform.Model('projects/827249641444/locations/asia-south1/models/4518438636298960896@1')\n"
     ]
    }
   ],
   "source": [
    "from google.cloud.resourcemanager_v3 import FoldersAsyncClient\n",
    "from google.cloud import aiplatform\n",
    "from google.cloud.aiplatform.explain import ExplanationSpec\n",
    "display_name = \"german_credit-model-sdk\"\n",
    "artifact_uri = \"gs://test_german_data/model-artifact\"\n",
    "serving_container_image_uri = \"asia-docker.pkg.dev/vertex-ai/prediction/sklearn-cpu.1-5:latest\"\n",
    "\n",
    "model = aiplatform.Model.upload(\n",
    "        display_name=display_name,\n",
    "        artifact_uri=artifact_uri,\n",
    "        location='asia-south1',\n",
    "        serving_container_image_uri=serving_container_image_uri,\n",
    "        sync=False\n",
    "    )"
   ]
  },
  {
   "cell_type": "code",
   "execution_count": 3,
   "id": "4a172a3e-c559-4487-89e7-1d3829c433d9",
   "metadata": {
    "tags": []
   },
   "outputs": [
    {
     "name": "stdout",
     "output_type": "stream",
     "text": [
      "\u001b[1;33mWARNING:\u001b[0m Property validation for compute/region was skipped.\n",
      "Updated property [compute/region].\n"
     ]
    }
   ],
   "source": [
    "!gcloud config set compute/region asia-south1"
   ]
  },
  {
   "cell_type": "code",
   "execution_count": null,
   "id": "8615753c-30a2-4202-ad16-b05405813e60",
   "metadata": {
    "tags": []
   },
   "outputs": [
    {
     "name": "stdout",
     "output_type": "stream",
     "text": [
      "Creating Endpoint\n",
      "Create Endpoint backing LRO: projects/827249641444/locations/asia-south1/endpoints/6929012327081574400/operations/5253639730595102720\n",
      "Endpoint created. Resource name: projects/827249641444/locations/asia-south1/endpoints/6929012327081574400\n",
      "To use this Endpoint in another session:\n",
      "endpoint = aiplatform.Endpoint('projects/827249641444/locations/asia-south1/endpoints/6929012327081574400')\n",
      "Deploying model to Endpoint : projects/827249641444/locations/asia-south1/endpoints/6929012327081574400\n",
      "Deploy Endpoint model backing LRO: projects/827249641444/locations/asia-south1/endpoints/6929012327081574400/operations/2947796721381408768\n"
     ]
    }
   ],
   "source": [
    "deployed_model_display_name = \"german-credit-model-endpoint\"\n",
    "traffic_split = {\"0\": 100}\n",
    "machine_type = \"n1-standard-4\"\n",
    "min_replica_count = 1\n",
    "max_replica_count = 1\n",
    "\n",
    "endpoint = model.deploy(\n",
    "        deployed_model_display_name=deployed_model_display_name,\n",
    "        machine_type=machine_type,\n",
    "        traffic_split = traffic_split,\n",
    "        min_replica_count=min_replica_count,\n",
    "        max_replica_count=max_replica_count\n",
    "    )"
   ]
  },
  {
   "cell_type": "code",
   "execution_count": null,
   "id": "d0764ee0-f83f-4fd0-9056-6de219091869",
   "metadata": {},
   "outputs": [],
   "source": []
  }
 ],
 "metadata": {
  "environment": {
   "kernel": "conda-base-py",
   "name": "workbench-notebooks.m129",
   "type": "gcloud",
   "uri": "us-docker.pkg.dev/deeplearning-platform-release/gcr.io/workbench-notebooks:m129"
  },
  "kernelspec": {
   "display_name": "Python [conda env:base] *",
   "language": "python",
   "name": "conda-base-py"
  },
  "language_info": {
   "codemirror_mode": {
    "name": "ipython",
    "version": 3
   },
   "file_extension": ".py",
   "mimetype": "text/x-python",
   "name": "python",
   "nbconvert_exporter": "python",
   "pygments_lexer": "ipython3",
   "version": "3.9.21"
  }
 },
 "nbformat": 4,
 "nbformat_minor": 5
}
